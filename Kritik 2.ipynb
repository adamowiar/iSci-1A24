{
 "cells": [
  {
   "cell_type": "code",
   "execution_count": null,
   "id": "f8242e42-92d4-4cfc-a5af-44f1dc5c600d",
   "metadata": {},
   "outputs": [],
   "source": [
    "def f(x):\n",
    "    return x**3 +1\n",
    "def Bob(a,b,abs): \n",
    "    abs=b-a\n",
    "        while abs>=10**-10:\n",
    "            M=(a+b)/2 \n",
    "            if f(a)*f(M)>=abs:\n",
    "                b=M\n",
    "            elif f(a)*f(M)<=abs:\n",
    "                a=M\n",
    "                return M \n",
    "                \n",
    "   \n",
    "answer = Bob(-5,5)\n",
    "print:answer"
   ]
  },
  {
   "cell_type": "code",
   "execution_count": 31,
   "id": "fa65fd6c",
   "metadata": {},
   "outputs": [
    {
     "name": "stdout",
     "output_type": "stream",
     "text": [
      "0\n",
      "1.0\n",
      "1.0\n",
      "0\n",
      "0\n",
      "0\n"
     ]
    }
   ],
   "source": [
    "import numpy as np\n",
    "def funny(x):\n",
    "    if x<=-1:\n",
    "        return 0\n",
    "    elif x>=1:\n",
    "        return 0\n",
    "    else:\n",
    "        return np.exp(1-(1/(1-x**(10**250))))\n",
    "\n",
    "\n",
    "print(funny(-1.000001))\n",
    "print(funny(-.9999999))\n",
    "print(funny(0.999999))\n",
    "print(funny(1.000001))\n",
    "print(funny(-1))\n",
    "print(funny(1))\n",
    "\n",
    "#3a). The function is NOT continous as when x approaches -1 from the right the y value is 0, but when it approaches from \n",
    "#the left it is one. Meaning there is a discontinuity of some kind at point -1 and also 1."
   ]
  },
  {
   "cell_type": "code",
   "execution_count": null,
   "id": "bff01358",
   "metadata": {},
   "outputs": [],
   "source": [
    "#3b) y=(-1/(1-x**10**250)), limX-->1- (-f(x))\n",
    "# The -fx only reflects the values of the function meaning the fx in the code above can explain the equation.\n",
    "# When x is approaching 1 from the left side in fx, it's value is 1 which would be -1 for -fx. However, when approaching from\n",
    "#the right, it's value is 0 for fx and -fx. \n",
    "# Property of exponential functions is that its rate increases more per unit of the x axis. However,\n",
    "# that doesn't seem to be the case here as every y value is either 0 or negative 1 for any value of x\n",
    "# Behaviours of exponential functions also include that they are constantly either increasing or decreasing and if it does decrease\n",
    "# the function approaches zero. This case the function equals zerdef bisection(func, a, b, error):\n",
    "\n",
    "    def f(x):\n",
    "        f = eval(func)\n",
    "        return f\n",
    "    your_error = abs(a-b)\n",
    "    while your_error > error:\n",
    "        m=(a+b)/2\n",
    "        if f(a)*f(m) < 0:\n",
    "            m=b\n",
    "            your_error = abs(a-b)\n",
    "            p=(a+b)/2\n",
    "        elif f(b)*f(m) < 0:\n",
    "            m=a\n",
    "            your_error = abs(a-b)\n",
    "            p=(a+b)/2\n",
    "        else:\n",
    "            print(\"uh oh!!!\")\n",
    "    print(f\"your root is {p}\")  \n",
    "    \n",
    "import numpy as np          \n",
    "        \n",
    "bisection(\"(np.sin(x))/(np.log(x))\", 3, 4, 0.01)o and is not increasing or decreasing.\n",
    "\n"
   ]
  },
  {
   "cell_type": "code",
   "execution_count": null,
   "id": "862ca17d-5229-49b9-abbe-16bfe5554be3",
   "metadata": {},
   "outputs": [],
   "source": [
    "def f:\n",
    "    return x*2\n",
    "def roots(f,a,b): \n",
    "        while abs(b-a)>=10**-10:\n",
    "            c=(a+b)/2 \n",
    "            if fa*fc>=abs:\n",
    "                b=c\n",
    "            elif fa*fc<=abs:\n",
    "                a=c\n",
    "                return c\n",
    "                \n",
    "   \n",
    "answer = Bob(2,-5,5)\n",
    "print:answer"
   ]
  },
  {
   "cell_type": "code",
   "execution_count": null,
   "id": "a1ba9c0e-43a5-49f8-92b7-a50213a977eb",
   "metadata": {},
   "outputs": [],
   "source": [
    "def f(x):\n",
    "    return x**3 +1\n",
    "    \n",
    "def Bob(a,b,tol):\n",
    "     xl=a\n",
    "     xr=b\n",
    "    while (np.abs(xl-xr)>= tol):\n",
    "        c= (xl+xr)/2.0\n",
    "        prod f(xl)*f(c)\n",
    "        if prod >tol:\n",
    "            xl=c\n",
    "        else:\n",
    "            if prod < tol:\n",
    "                xr =c\n",
    "        return c\n",
    "\n",
    "answer = Bob(-5,5,1e-8)\n",
    "print answer\n",
    "        \n",
    "    "
   ]
  },
  {
   "cell_type": "code",
   "execution_count": null,
   "id": "4aa99a3a-3a97-45b7-9cd3-a37bd2c3073e",
   "metadata": {},
   "outputs": [],
   "source": [
    "def f(x):\n",
    "    return x**2\n",
    "        def bisection(a,b,abs):\n",
    "            while abs>=0.000000001:\n",
    "                m=(a+b)/2\n",
    "            if f(a)*f(m)>=abs:\n",
    "                b=m\n",
    "            elif f(b)*f(m)>=abs:\n",
    "                a=m\n",
    "                return m\n",
    "            \n",
    "        \n",
    "answer = bisection(-5,5,0.000000001)\n",
    "print(answer)"
   ]
  },
  {
   "cell_type": "code",
   "execution_count": null,
   "id": "e2eefb23-c20c-47cc-81a8-3dd2da3e65b8",
   "metadata": {},
   "outputs": [],
   "source": [
    "def bisection(func, a, b, error):\n",
    "\n",
    "    def f(x):\n",
    "        f = eval(func)\n",
    "        return f\n",
    "    your_error = abs(a-b)\n",
    "    while your_error > error:\n",
    "        m=(a+b)/2\n",
    "        if f(a)*f(m) < 0:\n",
    "            m=b\n",
    "            your_error = abs(a-b)\n",
    "            p=(a+b)/2\n",
    "        elif f(b)*f(m) < 0:\n",
    "            m=a\n",
    "            your_error = abs(a-b)\n",
    "            p=(a+b)/2\n",
    "        else:\n",
    "            print(\"uh oh!!!\")\n",
    "    print(f\"your root is {p}\")  \n",
    "    \n",
    "import numpy as np          \n",
    "        \n",
    "bisection(\"(np.sin(x))/(np.log(x))\", 3, 4, 0.01)"
   ]
  },
  {
   "cell_type": "code",
   "execution_count": null,
   "id": "c47d1b83-b054-4f9d-afe3-5b060151cf73",
   "metadata": {},
   "outputs": [],
   "source": []
  }
 ],
 "metadata": {
  "kernelspec": {
   "display_name": "Python 3 (ipykernel)",
   "language": "python",
   "name": "python3"
  },
  "language_info": {
   "codemirror_mode": {
    "name": "ipython",
    "version": 3
   },
   "file_extension": ".py",
   "mimetype": "text/x-python",
   "name": "python",
   "nbconvert_exporter": "python",
   "pygments_lexer": "ipython3",
   "version": "3.11.4"
  }
 },
 "nbformat": 4,
 "nbformat_minor": 5
}
