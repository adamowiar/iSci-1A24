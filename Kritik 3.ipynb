{
 "cells": [
  {
   "cell_type": "code",
   "execution_count": 5,
   "id": "d91b9a2d-22a3-4cf5-b912-1f229b9ab23a",
   "metadata": {},
   "outputs": [
    {
     "name": "stdout",
     "output_type": "stream",
     "text": [
      "Data has been read!\n"
     ]
    }
   ],
   "source": [
    "import matplotlib.pyplot as plt # MatPlotLib: Plotting library for Python\n",
    "import numpy as np # NumPy: N-dimensional array for numerical computation\n",
    "%matplotlib inline\n",
    "import pandas as pd  # to deal with data\n",
    "\n",
    "# ignore the code in this cell if you wish\n",
    "# run this cell\n",
    "\n",
    "############ NOTE: YOU MUST BE CONNECTED TO THE INTERNET TO UPLOAD THE DATA    ##########################\n",
    "#(otherwise Jupyter will send you an error message)\n",
    "\n",
    "data = pd.read_csv(\"https://ms.mcmaster.ca/lovric/labsdata/concentrationdata.csv\")\n",
    "time=[]\n",
    "conc=[]\n",
    "for i in range (0,len(data)):\n",
    "    time.append(data.iloc[i,0])\n",
    "    conc.append(data.iloc[i,1])\n",
    "print(\"Data has been read!\")"
   ]
  },
  {
   "cell_type": "code",
   "execution_count": 6,
   "id": "6183f0ba-8212-4756-9045-382b3587580a",
   "metadata": {},
   "outputs": [
    {
     "data": {
      "image/png": "[encoded data removed]",
      "text/plain": [
       "<Figure size 640x480 with 1 Axes>"
      ]
     },
     "metadata": {},
     "output_type": "display_data"
    },
    {
     "name": "stdout",
     "output_type": "stream",
     "text": [
      "the max rate of concentration is 0.1609\n",
      "the min rate of concentration is -0.0045\n",
      "3.0\n"
     ]
    }
   ],
   "source": [
    "\n",
    "def f(x):\n",
    "    return x**2\n",
    "c=1\n",
    "E=0.1\n",
    "h=10**-8\n",
    "n=112\n",
    "def dev(x):\n",
    "\n",
    "conc_prime = []  \n",
    "\n",
    "for i in range (0,len(data)-1):\n",
    "    aroc = (conc[i+1]-conc[i])/(time[i+1]-time[i])  # use forward differences (slope of secant line)\n",
    "    conc_prime.append(aroc) # add this 'average rate of change' to the list conc_prime\n",
    "conc_prime.append(aroc)  # when i = len(data), i.e., for the last difference quotient, just use the last computed value \n",
    "# now we have a table of values for the (approximate) derivative in the table called conc_prime\n",
    "\n",
    "\n",
    "plt.plot(time, conc_prime, color = 'blue')\n",
    "plt.title(\" \")\n",
    "plt.xlabel(\"time\")\n",
    "plt.ylabel(\" \")\n",
    "plt.grid()\n",
    "plt.show()  \n",
    "print(\"the max rate of concentration is\", round(np.max(conc_prime), 4),)\n",
    "print(\"the min rate of concentration is\", round(np.min(conc_prime),4))\n",
    "\n",
    "for i in range(0,len(data)-1):\n",
    "    if conc_prime[i]==max(conc_prime):\n",
    "        print(time[i]) "
   ]
  },
  {
   "cell_type": "code",
   "execution_count": 22,
   "id": "63cfff8f-16e0-47d6-8421-aba56aa40874",
   "metadata": {},
   "outputs": [
    {
     "name": "stdout",
     "output_type": "stream",
     "text": [
      "0.99999\n",
      "1.00001\n"
     ]
    }
   ],
   "source": [
    "\n",
    "def f(x):\n",
    "    return x**2\n",
    "c=1\n",
    "E=0.1\n",
    "h=10**-8\n",
    "n=100\n",
    "x1=c\n",
    "x2=c\n",
    "d=0.00001\n",
    "\n",
    "def dev(x):\n",
    "    return (f(x+h)-f(x-h))/(2*h)\n",
    "def L(x):\n",
    "    return f(c)+dev(c)*(x-c)\n",
    "for i in range(n): \n",
    "    x1-=d\n",
    "    if abs(f(x1)-L(x1)) <= E :\n",
    "        print(x1)\n",
    "        break\n",
    "else:\n",
    "    print(\"no x1 is found\")\n",
    "\n",
    "for i in range(n):\n",
    "    x2+=d\n",
    "    if abs(f(x2)-L(x2)) <= E:\n",
    "        print(x2)\n",
    "        break\n",
    "else:\n",
    "    print(\"no x2 is found\")\n",
    "    \n"
   ]
  },
  {
   "cell_type": "code",
   "execution_count": null,
   "id": "82d6f4eb-b9d9-4877-a8ea-e99dba0fc5f3",
   "metadata": {},
   "outputs": [],
   "source": []
  },
  {
   "cell_type": "code",
   "execution_count": 23,
   "id": "ad69f70a-64b5-4d48-af02-e5a97f6dc6d2",
   "metadata": {},
   "outputs": [
    {
     "name": "stdout",
     "output_type": "stream",
     "text": [
      "0.7853881633974483\n",
      "0.7854081633974482\n"
     ]
    }
   ],
   "source": [
    "\n",
    "def f(x):\n",
    "    return np.sin(x)\n",
    "c=np.pi/4\n",
    "E=0.05\n",
    "h=10**-8\n",
    "n=100\n",
    "x1=c\n",
    "x2=c\n",
    "d=0.00001\n",
    "\n",
    "def dev(x):\n",
    "    return (f(x+h)-f(x-h))/(2*h)\n",
    "def L(x):\n",
    "    return f(c)+dev(c)*(x-c)\n",
    "for i in range(n): \n",
    "    x1-=d\n",
    "    if abs(f(x1)-L(x1)) <= E :\n",
    "        print(x1)\n",
    "        break\n",
    "else:\n",
    "    print(\"no x1 is found\")\n",
    "\n",
    "for i in range(n):\n",
    "    x2+=d\n",
    "    if abs(f(x2)-L(x2)) <= E:\n",
    "        print(x2)\n",
    "        break\n",
    "else:\n",
    "    print(\"no x2 is found\")\n",
    "    \n"
   ]
  },
  {
   "cell_type": "code",
   "execution_count": null,
   "id": "90957397-5b94-460e-a4c1-b21c131c19c2",
   "metadata": {},
   "outputs": [],
   "source": []
  },
  {
   "cell_type": "code",
   "execution_count": 24,
   "id": "16300d99-4cd0-4838-bba7-c5d3edf604be",
   "metadata": {},
   "outputs": [
    {
     "name": "stdout",
     "output_type": "stream",
     "text": [
      "-1e-05\n",
      "1e-05\n"
     ]
    }
   ],
   "source": [
    "\n",
    "def f(x):\n",
    "    return np.e**x\n",
    "c=0\n",
    "E=0.01\n",
    "h=10**-8\n",
    "n=100\n",
    "x1=c\n",
    "x2=c\n",
    "d=0.00001\n",
    "\n",
    "def dev(x):\n",
    "    return (f(x+h)-f(x-h))/(2*h)\n",
    "def L(x):\n",
    "    return f(c)+dev(c)*(x-c)\n",
    "for i in range(n): \n",
    "    x1-=d\n",
    "    if abs(f(x1)-L(x1)) <= E :\n",
    "        print(x1)\n",
    "        break\n",
    "else:\n",
    "    print(\"no x1 is found\")\n",
    "\n",
    "for i in range(n):\n",
    "    x2+=d\n",
    "    if abs(f(x2)-L(x2)) <= E:\n",
    "        print(x2)\n",
    "        break\n",
    "else:\n",
    "    print(\"no x2 is found\")\n",
    "    \n"
   ]
  },
  {
   "cell_type": "code",
   "execution_count": null,
   "id": "522659c9-a4cc-4866-b147-ab8c24fb4d1d",
   "metadata": {},
   "outputs": [],
   "source": []
  },
  {
   "cell_type": "code",
   "execution_count": 22,
   "id": "24bc56a8-aaef-4ccc-b2a7-176a7ae937c5",
   "metadata": {},
   "outputs": [
    {
     "name": "stdout",
     "output_type": "stream",
     "text": [
      "0.99999\n",
      "1.00001\n"
     ]
    }
   ],
   "source": [
    "\n",
    "def f(x):\n",
    "    return x**2\n",
    "c=1\n",
    "E=0.1\n",
    "h=10**-8\n",
    "n=100\n",
    "x1=c\n",
    "x2=c\n",
    "d=0.00001\n",
    "\n",
    "def dev(x):\n",
    "    return (f(x+h)-f(x-h))/(2*h)\n",
    "def L(x):\n",
    "    return f(c)+dev(c)*(x-c)\n",
    "for i in range(n): \n",
    "    x1-=d\n",
    "    if abs(f(x1)-L(x1)) <= E :\n",
    "        print(x1)\n",
    "        break\n",
    "else:\n",
    "    print(\"no x1 is found\")\n",
    "\n",
    "for i in range(n):\n",
    "    x2+=d\n",
    "    if abs(f(x2)-L(x2)) <= E:\n",
    "        print(x2)\n",
    "        break\n",
    "else:\n",
    "    print(\"no x2 is found\")\n",
    "    \n"
   ]
  }
 ],
 "metadata": {
  "kernelspec": {
   "display_name": "Python 3 (ipykernel)",
   "language": "python",
   "name": "python3"
  },
  "language_info": {
   "codemirror_mode": {
    "name": "ipython",
    "version": 3
   },
   "file_extension": ".py",
   "mimetype": "text/x-python",
   "name": "python",
   "nbconvert_exporter": "python",
   "pygments_lexer": "ipython3",
   "version": "3.11.4"
  }
 },
 "nbformat": 4,
 "nbformat_minor": 5
}
