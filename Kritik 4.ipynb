{
 "cells": [
  {
   "cell_type": "code",
   "execution_count": 1,
   "id": "56505a4c-5e39-40a0-93d4-35f340e44b3a",
   "metadata": {},
   "outputs": [
    {
     "ename": "NameError",
     "evalue": "name 'initial_point' is not defined",
     "output_type": "error",
     "traceback": [
      "\u001b[0;31m---------------------------------------------------------------------------\u001b[0m",
      "\u001b[0;31mNameError\u001b[0m                                 Traceback (most recent call last)",
      "Cell \u001b[0;32mIn[1], line 8\u001b[0m\n\u001b[1;32m      5\u001b[0m     \u001b[38;5;28;01mdef\u001b[39;00m \u001b[38;5;21mderiv\u001b[39m(f, base_point): \u001b[38;5;66;03m#estimate derivative of function f at basepoint\u001b[39;00m\n\u001b[1;32m      6\u001b[0m         \u001b[38;5;28;01mreturn\u001b[39;00m (f(base_point\u001b[38;5;241m+\u001b[39m\u001b[38;5;241m10\u001b[39m\u001b[38;5;241m*\u001b[39m\u001b[38;5;241m*\u001b[39m(\u001b[38;5;241m-\u001b[39m\u001b[38;5;241m5\u001b[39m))\u001b[38;5;241m-\u001b[39mf(base_point))\u001b[38;5;241m/\u001b[39m(\u001b[38;5;241m10\u001b[39m\u001b[38;5;241m*\u001b[39m\u001b[38;5;241m*\u001b[39m(\u001b[38;5;241m-\u001b[39m\u001b[38;5;241m5\u001b[39m))\n\u001b[0;32m----> 8\u001b[0m x_coords\u001b[38;5;241m=\u001b[39m[\u001b[43minitial_point\u001b[49m] \u001b[38;5;66;03m#where we store x_n's\u001b[39;00m\n\u001b[1;32m      9\u001b[0m y_coords\u001b[38;5;241m=\u001b[39m[f(initial_points)] \u001b[38;5;66;03m#List where we store y_n's\u001b[39;00m\n\u001b[1;32m     11\u001b[0m \u001b[38;5;66;03m#MY CODE HERE\u001b[39;00m\n\u001b[1;32m     12\u001b[0m     \u001b[38;5;66;03m# point of this is to try and return a function and use gradient descent in the making of it,\u001b[39;00m\n\u001b[1;32m     13\u001b[0m     \u001b[38;5;66;03m# by making fprime below and using it in the step pattern like in the example\u001b[39;00m\n",
      "\u001b[0;31mNameError\u001b[0m: name 'initial_point' is not defined"
     ]
    }
   ],
   "source": [
    "import matplotlib.pyplot as plt\n",
    "import numpy as np\n",
    "\n",
    "def gradient_descent(f,learning_rate,initial_point):\n",
    "    def deriv(f, base_point): #estimate derivative of function f at basepoint\n",
    "        return (f(base_point+10**(-5))-f(base_point))/(10**(-5))\n",
    "\n",
    "x_coords=[initial_point] #where we store x_n's\n",
    "y_coords=[f(initial_points)] #List where we store y_n's\n",
    "\n",
    "#MY CODE HERE\n",
    "    # point of this is to try and return a function and use gradient descent in the making of it,\n",
    "    # by making fprime below and using it in the step pattern like in the example\n",
    "    \n",
    "def f(x):\n",
    "    if -5 <= x <= 5:\n",
    "        return x**6\n",
    "def fprime(x):\n",
    "    return ((f(x+0.000001)-f(x))/0.000001)\n",
    "\n",
    "i =1\n",
    "\n",
    "#make sure the code doesn't crash so put a limit\n",
    "while abs(fprime(x_coords[i-1]))>0.000001:\n",
    "    xi = x_coords[i-1] - learning_rate*fprime(x_coords[i-1])\n",
    "# the equation f(x0 − ηf′(x0)) ⪅ f(x0) is tried to be replicated here in order to \n",
    "\n",
    "x_coords.append(xi)\n",
    "y_coords(f(x_coords(i)))\n",
    "\n",
    "i=i+1\n",
    "# trying to keep the step pattern \n",
    "\n",
    "plot_range=np.linspace(min(x_coords)-0.5, #a nice plot range\n",
    "                           max(x_coords)+0.5,10000) #for looks\n",
    "function_range=[f(i) for i in plot_range]\n",
    "plt.plot(plot_range, function_range) #this plots f(x) function\n",
    "plt.plot(x_coords, y_coords) #plots sequence of the points \n",
    "\n",
    "return round(x_coords[-1],3), round(y_coords[-1],3) \n",
    "\n",
    "gradient_descent(func_1,0.8,11)\n",
    "                           "
   ]
  },
  {
   "cell_type": "code",
   "execution_count": null,
   "id": "e121d899-1308-40a6-8392-9f8fdfc23142",
   "metadata": {},
   "outputs": [],
   "source": []
  },
  {
   "cell_type": "code",
   "execution_count": null,
   "id": "43844b3e-1762-4ab6-9c05-2596f137f724",
   "metadata": {},
   "outputs": [],
   "source": []
  }
 ],
 "metadata": {
  "kernelspec": {
   "display_name": "Python 3 (ipykernel)",
   "language": "python",
   "name": "python3"
  },
  "language_info": {
   "codemirror_mode": {
    "name": "ipython",
    "version": 3
   },
   "file_extension": ".py",
   "mimetype": "text/x-python",
   "name": "python",
   "nbconvert_exporter": "python",
   "pygments_lexer": "ipython3",
   "version": "3.11.4"
  }
 },
 "nbformat": 4,
 "nbformat_minor": 5
}
