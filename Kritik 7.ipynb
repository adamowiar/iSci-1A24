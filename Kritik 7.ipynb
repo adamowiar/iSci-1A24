{
 "cells": [
  {
   "cell_type": "code",
   "execution_count": 20,
   "id": "074e129b-dd16-4e49-811a-eb22bac9bd05",
   "metadata": {},
   "outputs": [],
   "source": [
    "import numpy as np\n",
    "from scipy.special import gamma\n",
    "\n"
   ]
  },
  {
   "cell_type": "code",
   "execution_count": null,
   "id": "e2936b04-0356-47f8-a782-1c2ca5680b4c",
   "metadata": {},
   "outputs": [],
   "source": [
    "coeff = gamma((nu + 1) / 2) / (np.sqrt(nu * np.pi) * gamma(nu / 2))\n",
    "density = coeff * (1 + x**2 / nu) ** (-0.5 * (nu + 1))\n",
    "return density"
   ]
  },
  {
   "cell_type": "code",
   "execution_count": 48,
   "id": "85f3787f-7e3b-4395-b9ac-65c3bc418bb4",
   "metadata": {},
   "outputs": [
    {
     "ename": "NameError",
     "evalue": "name 't_distribution_pdf' is not defined",
     "output_type": "error",
     "traceback": [
      "\u001b[0;31m---------------------------------------------------------------------------\u001b[0m",
      "\u001b[0;31mNameError\u001b[0m                                 Traceback (most recent call last)",
      "Cell \u001b[0;32mIn[48], line 22\u001b[0m\n\u001b[1;32m     20\u001b[0m     x \u001b[38;5;241m=\u001b[39m np\u001b[38;5;241m.\u001b[39mlinspace(x_start, x_end, num_points)\n\u001b[1;32m     21\u001b[0m \u001b[38;5;66;03m# Apply the density function to the x values\u001b[39;00m\n\u001b[0;32m---> 22\u001b[0m y \u001b[38;5;241m=\u001b[39m \u001b[43mt_distribution_pdf\u001b[49m(x, nu)\n\u001b[1;32m     23\u001b[0m \u001b[38;5;66;03m# This next line is the integration (exercise: why does this work?)\u001b[39;00m\n\u001b[1;32m     24\u001b[0m cdf \u001b[38;5;241m=\u001b[39m np\u001b[38;5;241m.\u001b[39mcumsum(y) \u001b[38;5;241m*\u001b[39m (x[\u001b[38;5;241m1\u001b[39m] \u001b[38;5;241m-\u001b[39m x[\u001b[38;5;241m0\u001b[39m])\n",
      "\u001b[0;31mNameError\u001b[0m: name 't_distribution_pdf' is not defined"
     ]
    }
   ],
   "source": [
    "import numpy as np\n",
    "from scipy.special import gamma\n",
    "from itertools import accumulate\n",
    "\n",
    "\n",
    "ss=len([92.64,79.00,84.79,97.41,93.68,65.23,84.50,73.49,73.97,79.11])\n",
    "\n",
    "C = [92.64,79.00,84.79,97.41,93.68,65.23,84.50,73.49,73.97,79.11]\n",
    "numbers= sum([92.64,79.00,84.79,97.41,93.68,65.23,84.50,73.49,73.97,79.11])\n",
    "#i defined all the functions to get the average and just used the number for average after getting it\n",
    "\n",
    "xbar= ((numbers)/ss)\n",
    "\n",
    "\n",
    "STDs = ((((92.64-82.382)**2)/(ss-1))+((92.64-82.382)**2)/(ss-1))+(((79-82.382)**2)/(ss-1))+(((84.79-82.382)**2)/(ss-1))+(((97.41-82.382)**2)/(ss-1))+(((93.68-82.382)**2)/(ss-1))+(((65.23-82.382)**2)/(ss-1))+(((84.5-82.382)**2)/(ss-1))+(((73.49-82.382)**2)/(ss-1))+((((73.97-82.382)+((79.11-82.382)**2)/(ss-1))))\n",
    "#couldnt get the actual standard deviation to work so i did it the long way\n",
    "def find_t_star(prob, nu, x_start=0, x_end=20, num_points=10000):\n",
    "\n",
    "# Define the x values\n",
    "    x = np.linspace(x_start, x_end, num_points)\n",
    "# Apply the density function to the x values\n",
    "y = t_distribution_pdf(x, nu)\n",
    "# This next line is the integration (exercise: why does this work?)\n",
    "cdf = np.cumsum(y) * (x[1] - x[0])\n",
    "\n",
    "target_half_prob = prob / 2\n",
    "index = np.where(cdf >= target_half_prob)[0][0]\n",
    "return x[index]\n",
    "# gregs code where when i tried to find t0 it didn't work\n",
    "\n"
   ]
  },
  {
   "cell_type": "code",
   "execution_count": 28,
   "id": "2f1f3318-d2b4-4d52-8c9b-c5fd2f46d7ce",
   "metadata": {},
   "outputs": [
    {
     "name": "stdout",
     "output_type": "stream",
     "text": [
      "82.382\n"
     ]
    }
   ],
   "source": [
    "import numpy as np\n",
    "from scipy.special import gamma\n",
    "from itertools import accumulate\n",
    "ss=len([92.64,79.00,84.79,97.41,93.68,65.23,84.50,73.49,73.97,79.11])\n",
    "\n",
    "numbers= sum([92.64,79.00,84.79,97.41,93.68,65.23,84.50,73.49,73.97,79.11])\n",
    "\n",
    "\n",
    "xbar= (numbers/ss)\n",
    "\n",
    "print(xbar)"
   ]
  },
  {
   "cell_type": "code",
   "execution_count": 24,
   "id": "fd4ff690-58f7-4bd2-a63e-2a7337f7f76b",
   "metadata": {},
   "outputs": [
    {
     "name": "stdout",
     "output_type": "stream",
     "text": [
      "823.82\n"
     ]
    }
   ],
   "source": [
    "P= sum([92.64,79.00,84.79,97.41,93.68,65.23,84.50,73.49,73.97,79.11])\n",
    "\n",
    "print(P)\n"
   ]
  },
  {
   "cell_type": "code",
   "execution_count": null,
   "id": "8a63b83d-bb53-4a5c-b396-6996f7a54cce",
   "metadata": {},
   "outputs": [],
   "source": []
  }
 ],
 "metadata": {
  "kernelspec": {
   "display_name": "Python 3 (ipykernel)",
   "language": "python",
   "name": "python3"
  },
  "language_info": {
   "codemirror_mode": {
    "name": "ipython",
    "version": 3
   },
   "file_extension": ".py",
   "mimetype": "text/x-python",
   "name": "python",
   "nbconvert_exporter": "python",
   "pygments_lexer": "ipython3",
   "version": "3.11.4"
  }
 },
 "nbformat": 4,
 "nbformat_minor": 5
}
